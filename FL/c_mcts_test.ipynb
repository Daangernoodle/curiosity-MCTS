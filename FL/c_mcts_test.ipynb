{
 "cells": [
  {
   "cell_type": "code",
   "execution_count": 13,
   "metadata": {},
   "outputs": [],
   "source": [
    "import os\n",
    "import shutil\n",
    "from copy import deepcopy\n",
    "from copy import copy\n",
    "import random\n",
    "import time\n",
    "import argparse\n",
    "\n",
    "from math import *\n",
    "import numpy as np\n",
    "import torch\n",
    "\n",
    "import gymnasium as gym\n",
    "\n",
    "from c_mcts_args import parse_args\n",
    "from utils.get_pixel_state import get_pixel_state\n",
    "from utils.memory import Memory\n",
    "from c_mcts import Node, MCTS\n",
    "from rnd import RND\n",
    "import matplotlib.pyplot as plt\n",
    "\n",
    "# Fix Argparse in ipython\n",
    "import sys\n",
    "sys.argv=['']"
   ]
  },
  {
   "cell_type": "code",
   "execution_count": 15,
   "metadata": {},
   "outputs": [
    {
     "name": "stdout",
     "output_type": "stream",
     "text": [
      "Using device:  cuda\n"
     ]
    }
   ],
   "source": [
    "# CUDA setup\n",
    "run_name = \"mcts_test\"\n",
    "args = parse_args()\n",
    "device = torch.device(\"cuda\" if torch.cuda.is_available() else \"cpu\")\n",
    "print(\"Using device: \", device)\n",
    "\n",
    "# Env Setup\n",
    "env = gym.make(\"FrozenLake-v1\",  render_mode = \"rgb_array\", map_name=\"8x8\", is_slippery=False)\n",
    "env = gym.wrappers.TimeLimit(env, max_episode_steps=32)\n",
    "# Video recording setup\n",
    "#render_env = deepcopy(env)\n",
    "#render_env = gym.wrappers.RecordVideo(render_env,f\"videos/{run_name}\")\n",
    "\n",
    "# Init models\n",
    "memory = Memory(env, args)\n",
    "mcts = MCTS(args)\n",
    "mcts.temperature = 0.5"
   ]
  },
  {
   "cell_type": "code",
   "execution_count": 16,
   "metadata": {},
   "outputs": [],
   "source": [
    "# Load models\n",
    "checkpoint_path = \"checkpoints/FrozenLake_mcts_1103_06-05-2023\"\n",
    "version = 5\n",
    "mcts.load(f\"{checkpoint_path}/mcts/{version}.pth\")\n",
    "mcts.vae.load(\"models/FL_vae_8x8.pth\")\n",
    "mcts.rnd.load(f\"{checkpoint_path}/rnd/{version}.pth\")"
   ]
  },
  {
   "cell_type": "code",
   "execution_count": 17,
   "metadata": {},
   "outputs": [
    {
     "name": "stdout",
     "output_type": "stream",
     "text": [
      "Goals reached: 1 / 8\n",
      "Avg steps to goal: 16.0\n"
     ]
    }
   ],
   "source": [
    "# Test loop\n",
    "steps_array = []\n",
    "goal_reached = 0\n",
    "\n",
    "for i in range(1):\n",
    "    # Init\n",
    "    steps = 0\n",
    "    reward_ext = 0\n",
    "    reward_int = 0\n",
    "\n",
    "    env.reset()\n",
    "    #render_env.reset()\n",
    "    sim_env = deepcopy(env)\n",
    "    state = get_pixel_state(env)\n",
    "    root = Node(sim_env, state)\n",
    "\n",
    "    memory.clear()\n",
    "    for i in range (args.rnn_sequence_length):\n",
    "        memory.states.append(state)\n",
    "        memory.append_action(0)\n",
    "\n",
    "    done = False\n",
    "    while not done:\n",
    "\n",
    "        # Train RND\n",
    "        z_state = mcts.vae.encode(state.unsqueeze(0).to(device))\n",
    "        mcts.rnd.train(z_state)\n",
    "\n",
    "        # Get action from mcts    \n",
    "        history = memory.get_history()\n",
    "        root, action = mcts.search(root, history)\n",
    "\n",
    "        # Step in the environment\n",
    "        _, reward_ext, terminated, truncated, _ = env.step(action)\n",
    "        #render_env.step(action)\n",
    "        next_state = get_pixel_state(env)\n",
    "        done = np.any([terminated, truncated], axis=0)\n",
    "\n",
    "        # Get RND intrinsic reward\n",
    "        with torch.no_grad():\n",
    "            next_z_state = mcts.vae.encode(next_state.unsqueeze(0).to(device))\n",
    "            reward_int = mcts.rnd.reward(next_z_state)\n",
    "        # Append current step to memory\n",
    "        action_id = ['left ', 'down ', 'right', 'up   ']\n",
    "        #print(f\"action: {action_id[action]} | reward_ext: {reward_ext} | reward_int: {reward_int}\")\n",
    "        steps += 1\n",
    "\n",
    "        # Append statistics\n",
    "        if reward_ext == 1.0:\n",
    "            goal_reached += 1\n",
    "            steps_array.append(steps)\n",
    "    \n",
    "    \n",
    "print(f\"Goals reached: {goal_reached} / 8\")\n",
    "print(f\"Avg steps to goal: {np.mean(steps_array)}\")\n",
    "\n",
    "env.close()\n",
    "#render_env.close()"
   ]
  }
 ],
 "metadata": {
  "kernelspec": {
   "display_name": "Python 3.8.13 ('base')",
   "language": "python",
   "name": "python3"
  },
  "language_info": {
   "codemirror_mode": {
    "name": "ipython",
    "version": 3
   },
   "file_extension": ".py",
   "mimetype": "text/x-python",
   "name": "python",
   "nbconvert_exporter": "python",
   "pygments_lexer": "ipython3",
   "version": "3.9.13"
  },
  "orig_nbformat": 4,
  "vscode": {
   "interpreter": {
    "hash": "ad2bdc8ecc057115af97d19610ffacc2b4e99fae6737bb82f5d7fb13d2f2c186"
   }
  }
 },
 "nbformat": 4,
 "nbformat_minor": 2
}
